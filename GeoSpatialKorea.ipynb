{
 "cells": [
  {
   "cell_type": "markdown",
   "metadata": {
    "tags": []
   },
   "source": [
    "# South Korea Covid Analysis with route dataset.\n",
    "\n",
    "> Dataset yang digunakan adalah rute transportasi dan shape dari negara korea selatan. Analisa ini bertujuan untuk mengetahui provinsi mana yang banyak kegiatan perjalanan ketika sedang pandemi Covid 19"
   ]
  },
  {
   "cell_type": "markdown",
   "metadata": {},
   "source": [
    "## Acquisition"
   ]
  },
  {
   "cell_type": "markdown",
   "metadata": {},
   "source": [
    "Mengimport Library"
   ]
  },
  {
   "cell_type": "code",
   "execution_count": 1,
   "metadata": {},
   "outputs": [],
   "source": [
    "import geopandas as gpd\n",
    "import pandas as pd\n",
    "from shapely.geometry import Point\n",
    "import matplotlib.pyplot as plt"
   ]
  },
  {
   "cell_type": "markdown",
   "metadata": {},
   "source": [
    "Json Data"
   ]
  },
  {
   "cell_type": "code",
   "execution_count": 2,
   "metadata": {},
   "outputs": [],
   "source": [
    "mapkorea = gpd.read_file('DatamapKorea.json')\n",
    "pd.set_option('display.max_columns', None)"
   ]
  },
  {
   "cell_type": "code",
   "execution_count": 3,
   "metadata": {},
   "outputs": [
    {
     "data": {
      "text/html": [
       "<div>\n",
       "<style scoped>\n",
       "    .dataframe tbody tr th:only-of-type {\n",
       "        vertical-align: middle;\n",
       "    }\n",
       "\n",
       "    .dataframe tbody tr th {\n",
       "        vertical-align: top;\n",
       "    }\n",
       "\n",
       "    .dataframe thead th {\n",
       "        text-align: right;\n",
       "    }\n",
       "</style>\n",
       "<table border=\"1\" class=\"dataframe\">\n",
       "  <thead>\n",
       "    <tr style=\"text-align: right;\">\n",
       "      <th></th>\n",
       "      <th>scalerank</th>\n",
       "      <th>featurecla</th>\n",
       "      <th>labelrank</th>\n",
       "      <th>sovereignt</th>\n",
       "      <th>sov_a3</th>\n",
       "      <th>adm0_dif</th>\n",
       "      <th>level</th>\n",
       "      <th>type</th>\n",
       "      <th>admin</th>\n",
       "      <th>adm0_a3</th>\n",
       "      <th>geou_dif</th>\n",
       "      <th>geounit</th>\n",
       "      <th>gu_a3</th>\n",
       "      <th>su_dif</th>\n",
       "      <th>subunit</th>\n",
       "      <th>su_a3</th>\n",
       "      <th>brk_diff</th>\n",
       "      <th>name</th>\n",
       "      <th>name_long</th>\n",
       "      <th>brk_a3</th>\n",
       "      <th>brk_name</th>\n",
       "      <th>brk_group</th>\n",
       "      <th>abbrev</th>\n",
       "      <th>postal</th>\n",
       "      <th>formal_en</th>\n",
       "      <th>formal_fr</th>\n",
       "      <th>note_adm0</th>\n",
       "      <th>note_brk</th>\n",
       "      <th>name_sort</th>\n",
       "      <th>name_alt</th>\n",
       "      <th>mapcolor7</th>\n",
       "      <th>mapcolor8</th>\n",
       "      <th>mapcolor9</th>\n",
       "      <th>mapcolor13</th>\n",
       "      <th>pop_est</th>\n",
       "      <th>gdp_md_est</th>\n",
       "      <th>pop_year</th>\n",
       "      <th>lastcensus</th>\n",
       "      <th>gdp_year</th>\n",
       "      <th>economy</th>\n",
       "      <th>income_grp</th>\n",
       "      <th>wikipedia</th>\n",
       "      <th>fips_10</th>\n",
       "      <th>iso_a2</th>\n",
       "      <th>iso_a3</th>\n",
       "      <th>iso_n3</th>\n",
       "      <th>un_a3</th>\n",
       "      <th>wb_a2</th>\n",
       "      <th>wb_a3</th>\n",
       "      <th>woe_id</th>\n",
       "      <th>adm0_a3_is</th>\n",
       "      <th>adm0_a3_us</th>\n",
       "      <th>adm0_a3_un</th>\n",
       "      <th>adm0_a3_wb</th>\n",
       "      <th>continent</th>\n",
       "      <th>region_un</th>\n",
       "      <th>subregion</th>\n",
       "      <th>region_wb</th>\n",
       "      <th>name_len</th>\n",
       "      <th>long_len</th>\n",
       "      <th>abbrev_len</th>\n",
       "      <th>tiny</th>\n",
       "      <th>homepart</th>\n",
       "      <th>filename</th>\n",
       "      <th>geometry</th>\n",
       "    </tr>\n",
       "  </thead>\n",
       "  <tbody>\n",
       "    <tr>\n",
       "      <th>0</th>\n",
       "      <td>1</td>\n",
       "      <td>Admin-0 country</td>\n",
       "      <td>2</td>\n",
       "      <td>South Korea</td>\n",
       "      <td>KOR</td>\n",
       "      <td>0</td>\n",
       "      <td>2</td>\n",
       "      <td>Sovereign country</td>\n",
       "      <td>South Korea</td>\n",
       "      <td>KOR</td>\n",
       "      <td>0</td>\n",
       "      <td>South Korea</td>\n",
       "      <td>KOR</td>\n",
       "      <td>0</td>\n",
       "      <td>South Korea</td>\n",
       "      <td>KOR</td>\n",
       "      <td>0</td>\n",
       "      <td>Korea</td>\n",
       "      <td>Republic of Korea</td>\n",
       "      <td>KOR</td>\n",
       "      <td>Republic of Korea</td>\n",
       "      <td>None</td>\n",
       "      <td>S.K.</td>\n",
       "      <td>KR</td>\n",
       "      <td>Republic of Korea</td>\n",
       "      <td>None</td>\n",
       "      <td>None</td>\n",
       "      <td>None</td>\n",
       "      <td>Korea, Rep.</td>\n",
       "      <td>None</td>\n",
       "      <td>4</td>\n",
       "      <td>1</td>\n",
       "      <td>1</td>\n",
       "      <td>5</td>\n",
       "      <td>48508972</td>\n",
       "      <td>1335000</td>\n",
       "      <td>-99</td>\n",
       "      <td>2010</td>\n",
       "      <td>-99</td>\n",
       "      <td>4. Emerging region: MIKT</td>\n",
       "      <td>1. High income: OECD</td>\n",
       "      <td>-99</td>\n",
       "      <td>None</td>\n",
       "      <td>KR</td>\n",
       "      <td>KOR</td>\n",
       "      <td>410</td>\n",
       "      <td>410</td>\n",
       "      <td>KR</td>\n",
       "      <td>KOR</td>\n",
       "      <td>-99</td>\n",
       "      <td>KOR</td>\n",
       "      <td>KOR</td>\n",
       "      <td>-99</td>\n",
       "      <td>-99</td>\n",
       "      <td>Asia</td>\n",
       "      <td>Asia</td>\n",
       "      <td>Eastern Asia</td>\n",
       "      <td>East Asia &amp; Pacific</td>\n",
       "      <td>5</td>\n",
       "      <td>17</td>\n",
       "      <td>4</td>\n",
       "      <td>-99</td>\n",
       "      <td>1</td>\n",
       "      <td>KOR.geojson</td>\n",
       "      <td>POLYGON ((128.34972 38.61224, 129.21292 37.432...</td>\n",
       "    </tr>\n",
       "  </tbody>\n",
       "</table>\n",
       "</div>"
      ],
      "text/plain": [
       "   scalerank       featurecla  labelrank   sovereignt sov_a3  adm0_dif  level  \\\n",
       "0          1  Admin-0 country          2  South Korea    KOR         0      2   \n",
       "\n",
       "                type        admin adm0_a3  geou_dif      geounit gu_a3  \\\n",
       "0  Sovereign country  South Korea     KOR         0  South Korea   KOR   \n",
       "\n",
       "   su_dif      subunit su_a3  brk_diff   name          name_long brk_a3  \\\n",
       "0       0  South Korea   KOR         0  Korea  Republic of Korea    KOR   \n",
       "\n",
       "            brk_name brk_group abbrev postal          formal_en formal_fr  \\\n",
       "0  Republic of Korea      None   S.K.     KR  Republic of Korea      None   \n",
       "\n",
       "  note_adm0 note_brk    name_sort name_alt  mapcolor7  mapcolor8  mapcolor9  \\\n",
       "0      None     None  Korea, Rep.     None          4          1          1   \n",
       "\n",
       "   mapcolor13   pop_est  gdp_md_est  pop_year  lastcensus  gdp_year  \\\n",
       "0           5  48508972     1335000       -99        2010       -99   \n",
       "\n",
       "                    economy            income_grp  wikipedia fips_10 iso_a2  \\\n",
       "0  4. Emerging region: MIKT  1. High income: OECD        -99    None     KR   \n",
       "\n",
       "  iso_a3 iso_n3 un_a3 wb_a2 wb_a3  woe_id adm0_a3_is adm0_a3_us  adm0_a3_un  \\\n",
       "0    KOR    410   410    KR   KOR     -99        KOR        KOR         -99   \n",
       "\n",
       "   adm0_a3_wb continent region_un     subregion            region_wb  \\\n",
       "0         -99      Asia      Asia  Eastern Asia  East Asia & Pacific   \n",
       "\n",
       "   name_len  long_len  abbrev_len  tiny  homepart     filename  \\\n",
       "0         5        17           4   -99         1  KOR.geojson   \n",
       "\n",
       "                                            geometry  \n",
       "0  POLYGON ((128.34972 38.61224, 129.21292 37.432...  "
      ]
     },
     "execution_count": 3,
     "metadata": {},
     "output_type": "execute_result"
    }
   ],
   "source": [
    "mapkorea"
   ]
  },
  {
   "cell_type": "code",
   "execution_count": 4,
   "metadata": {},
   "outputs": [
    {
     "data": {
      "text/plain": [
       "geopandas.geodataframe.GeoDataFrame"
      ]
     },
     "execution_count": 4,
     "metadata": {},
     "output_type": "execute_result"
    }
   ],
   "source": [
    "type(mapkorea)"
   ]
  },
  {
   "cell_type": "code",
   "execution_count": 5,
   "metadata": {},
   "outputs": [
    {
     "data": {
      "text/plain": [
       "geopandas.geoseries.GeoSeries"
      ]
     },
     "execution_count": 5,
     "metadata": {},
     "output_type": "execute_result"
    }
   ],
   "source": [
    "type(mapkorea.geometry)"
   ]
  },
  {
   "cell_type": "code",
   "execution_count": 6,
   "metadata": {},
   "outputs": [
    {
     "name": "stdout",
     "output_type": "stream",
     "text": [
      "<class 'geopandas.geodataframe.GeoDataFrame'>\n",
      "RangeIndex: 1 entries, 0 to 0\n",
      "Data columns (total 65 columns):\n",
      " #   Column      Non-Null Count  Dtype   \n",
      "---  ------      --------------  -----   \n",
      " 0   scalerank   1 non-null      int64   \n",
      " 1   featurecla  1 non-null      object  \n",
      " 2   labelrank   1 non-null      int64   \n",
      " 3   sovereignt  1 non-null      object  \n",
      " 4   sov_a3      1 non-null      object  \n",
      " 5   adm0_dif    1 non-null      int64   \n",
      " 6   level       1 non-null      int64   \n",
      " 7   type        1 non-null      object  \n",
      " 8   admin       1 non-null      object  \n",
      " 9   adm0_a3     1 non-null      object  \n",
      " 10  geou_dif    1 non-null      int64   \n",
      " 11  geounit     1 non-null      object  \n",
      " 12  gu_a3       1 non-null      object  \n",
      " 13  su_dif      1 non-null      int64   \n",
      " 14  subunit     1 non-null      object  \n",
      " 15  su_a3       1 non-null      object  \n",
      " 16  brk_diff    1 non-null      int64   \n",
      " 17  name        1 non-null      object  \n",
      " 18  name_long   1 non-null      object  \n",
      " 19  brk_a3      1 non-null      object  \n",
      " 20  brk_name    1 non-null      object  \n",
      " 21  brk_group   0 non-null      object  \n",
      " 22  abbrev      1 non-null      object  \n",
      " 23  postal      1 non-null      object  \n",
      " 24  formal_en   1 non-null      object  \n",
      " 25  formal_fr   0 non-null      object  \n",
      " 26  note_adm0   0 non-null      object  \n",
      " 27  note_brk    0 non-null      object  \n",
      " 28  name_sort   1 non-null      object  \n",
      " 29  name_alt    0 non-null      object  \n",
      " 30  mapcolor7   1 non-null      int64   \n",
      " 31  mapcolor8   1 non-null      int64   \n",
      " 32  mapcolor9   1 non-null      int64   \n",
      " 33  mapcolor13  1 non-null      int64   \n",
      " 34  pop_est     1 non-null      int64   \n",
      " 35  gdp_md_est  1 non-null      int64   \n",
      " 36  pop_year    1 non-null      int64   \n",
      " 37  lastcensus  1 non-null      int64   \n",
      " 38  gdp_year    1 non-null      int64   \n",
      " 39  economy     1 non-null      object  \n",
      " 40  income_grp  1 non-null      object  \n",
      " 41  wikipedia   1 non-null      int64   \n",
      " 42  fips_10     0 non-null      object  \n",
      " 43  iso_a2      1 non-null      object  \n",
      " 44  iso_a3      1 non-null      object  \n",
      " 45  iso_n3      1 non-null      object  \n",
      " 46  un_a3       1 non-null      object  \n",
      " 47  wb_a2       1 non-null      object  \n",
      " 48  wb_a3       1 non-null      object  \n",
      " 49  woe_id      1 non-null      int64   \n",
      " 50  adm0_a3_is  1 non-null      object  \n",
      " 51  adm0_a3_us  1 non-null      object  \n",
      " 52  adm0_a3_un  1 non-null      int64   \n",
      " 53  adm0_a3_wb  1 non-null      int64   \n",
      " 54  continent   1 non-null      object  \n",
      " 55  region_un   1 non-null      object  \n",
      " 56  subregion   1 non-null      object  \n",
      " 57  region_wb   1 non-null      object  \n",
      " 58  name_len    1 non-null      int64   \n",
      " 59  long_len    1 non-null      int64   \n",
      " 60  abbrev_len  1 non-null      int64   \n",
      " 61  tiny        1 non-null      int64   \n",
      " 62  homepart    1 non-null      int64   \n",
      " 63  filename    1 non-null      object  \n",
      " 64  geometry    1 non-null      geometry\n",
      "dtypes: geometry(1), int64(25), object(39)\n",
      "memory usage: 648.0+ bytes\n"
     ]
    }
   ],
   "source": [
    "mapkorea.info()"
   ]
  },
  {
   "cell_type": "markdown",
   "metadata": {},
   "source": [
    "CSV Data"
   ]
  },
  {
   "cell_type": "code",
   "execution_count": 7,
   "metadata": {},
   "outputs": [
    {
     "data": {
      "text/html": [
       "<div>\n",
       "<style scoped>\n",
       "    .dataframe tbody tr th:only-of-type {\n",
       "        vertical-align: middle;\n",
       "    }\n",
       "\n",
       "    .dataframe tbody tr th {\n",
       "        vertical-align: top;\n",
       "    }\n",
       "\n",
       "    .dataframe thead th {\n",
       "        text-align: right;\n",
       "    }\n",
       "</style>\n",
       "<table border=\"1\" class=\"dataframe\">\n",
       "  <thead>\n",
       "    <tr style=\"text-align: right;\">\n",
       "      <th></th>\n",
       "      <th>id</th>\n",
       "      <th>date</th>\n",
       "      <th>province</th>\n",
       "      <th>city</th>\n",
       "      <th>visit</th>\n",
       "      <th>latitude</th>\n",
       "      <th>longitude</th>\n",
       "    </tr>\n",
       "  </thead>\n",
       "  <tbody>\n",
       "    <tr>\n",
       "      <th>0</th>\n",
       "      <td>1</td>\n",
       "      <td>2020-01-19</td>\n",
       "      <td>Incheon</td>\n",
       "      <td>Jung-gu</td>\n",
       "      <td>airport</td>\n",
       "      <td>37.460459</td>\n",
       "      <td>126.440680</td>\n",
       "    </tr>\n",
       "    <tr>\n",
       "      <th>1</th>\n",
       "      <td>1</td>\n",
       "      <td>2020-01-20</td>\n",
       "      <td>Incheon</td>\n",
       "      <td>Seo-gu</td>\n",
       "      <td>hospital_isolated</td>\n",
       "      <td>37.478832</td>\n",
       "      <td>126.668558</td>\n",
       "    </tr>\n",
       "    <tr>\n",
       "      <th>2</th>\n",
       "      <td>2</td>\n",
       "      <td>2020-01-22</td>\n",
       "      <td>Gyeonggi-do</td>\n",
       "      <td>Gimpo-si</td>\n",
       "      <td>airport</td>\n",
       "      <td>37.562143</td>\n",
       "      <td>126.801884</td>\n",
       "    </tr>\n",
       "    <tr>\n",
       "      <th>3</th>\n",
       "      <td>2</td>\n",
       "      <td>2020-01-23</td>\n",
       "      <td>Seoul</td>\n",
       "      <td>Jung-gu</td>\n",
       "      <td>hospital_isolated</td>\n",
       "      <td>37.567454</td>\n",
       "      <td>127.005627</td>\n",
       "    </tr>\n",
       "    <tr>\n",
       "      <th>4</th>\n",
       "      <td>3</td>\n",
       "      <td>2020-01-20</td>\n",
       "      <td>Incheon</td>\n",
       "      <td>Jung-gu</td>\n",
       "      <td>airport</td>\n",
       "      <td>37.460459</td>\n",
       "      <td>126.440680</td>\n",
       "    </tr>\n",
       "  </tbody>\n",
       "</table>\n",
       "</div>"
      ],
      "text/plain": [
       "   id        date     province      city              visit   latitude  \\\n",
       "0   1  2020-01-19      Incheon   Jung-gu            airport  37.460459   \n",
       "1   1  2020-01-20      Incheon    Seo-gu  hospital_isolated  37.478832   \n",
       "2   2  2020-01-22  Gyeonggi-do  Gimpo-si            airport  37.562143   \n",
       "3   2  2020-01-23        Seoul   Jung-gu  hospital_isolated  37.567454   \n",
       "4   3  2020-01-20      Incheon   Jung-gu            airport  37.460459   \n",
       "\n",
       "    longitude  \n",
       "0  126.440680  \n",
       "1  126.668558  \n",
       "2  126.801884  \n",
       "3  127.005627  \n",
       "4  126.440680  "
      ]
     },
     "execution_count": 7,
     "metadata": {},
     "output_type": "execute_result"
    }
   ],
   "source": [
    "# Import csv\n",
    "korea = pd.read_csv('DataRoute.csv')\n",
    "korea.head()"
   ]
  },
  {
   "cell_type": "code",
   "execution_count": 8,
   "metadata": {},
   "outputs": [
    {
     "name": "stdout",
     "output_type": "stream",
     "text": [
      "<class 'pandas.core.frame.DataFrame'>\n",
      "RangeIndex: 68 entries, 0 to 67\n",
      "Data columns (total 7 columns):\n",
      " #   Column     Non-Null Count  Dtype  \n",
      "---  ------     --------------  -----  \n",
      " 0   id         68 non-null     int64  \n",
      " 1   date       68 non-null     object \n",
      " 2   province   68 non-null     object \n",
      " 3   city       68 non-null     object \n",
      " 4   visit      68 non-null     object \n",
      " 5   latitude   68 non-null     float64\n",
      " 6   longitude  68 non-null     float64\n",
      "dtypes: float64(2), int64(1), object(4)\n",
      "memory usage: 3.8+ KB\n"
     ]
    }
   ],
   "source": [
    "korea.info()"
   ]
  },
  {
   "cell_type": "code",
   "execution_count": 9,
   "metadata": {},
   "outputs": [
    {
     "data": {
      "text/plain": [
       "<bound method NDFrame.describe of     id        date     province         city              visit   latitude  \\\n",
       "0    1  2020-01-19      Incheon      Jung-gu            airport  37.460459   \n",
       "1    1  2020-01-20      Incheon       Seo-gu  hospital_isolated  37.478832   \n",
       "2    2  2020-01-22  Gyeonggi-do     Gimpo-si            airport  37.562143   \n",
       "3    2  2020-01-23        Seoul      Jung-gu  hospital_isolated  37.567454   \n",
       "4    3  2020-01-20      Incheon      Jung-gu            airport  37.460459   \n",
       "..  ..         ...          ...          ...                ...        ...   \n",
       "63  14  2020-01-30  Gyeonggi-do   Bucheon-si             market  37.484044   \n",
       "64  14  2020-02-02  Gyeonggi-do  Seongnam-si  hospital_isolated  37.347722   \n",
       "65  15  2020-01-20      Incheon      Jung-gu            airport  37.460459   \n",
       "66  15  2020-02-01  Gyeonggi-do     Suwon-si           hospital  37.304558   \n",
       "67  15  2020-02-02  Gyeonggi-do  Seongnam-si  hospital_isolated  37.390524   \n",
       "\n",
       "     longitude  \n",
       "0   126.440680  \n",
       "1   126.668558  \n",
       "2   126.801884  \n",
       "3   127.005627  \n",
       "4   126.440680  \n",
       "..         ...  \n",
       "63  126.782436  \n",
       "64  127.124322  \n",
       "65  126.440680  \n",
       "66  127.010198  \n",
       "67  127.149769  \n",
       "\n",
       "[68 rows x 7 columns]>"
      ]
     },
     "execution_count": 9,
     "metadata": {},
     "output_type": "execute_result"
    }
   ],
   "source": [
    "korea.describe"
   ]
  },
  {
   "cell_type": "markdown",
   "metadata": {},
   "source": [
    "## Preprocessing"
   ]
  },
  {
   "cell_type": "markdown",
   "metadata": {},
   "source": [
    "Menambahkan fitur baru dari hasil penggabungan 2 fitur (longitude dan latitude)"
   ]
  },
  {
   "cell_type": "code",
   "execution_count": 10,
   "metadata": {},
   "outputs": [],
   "source": [
    "korea['coordinates'] = korea[['longitude', 'latitude']].values.tolist()"
   ]
  },
  {
   "cell_type": "code",
   "execution_count": 11,
   "metadata": {},
   "outputs": [
    {
     "data": {
      "text/html": [
       "<div>\n",
       "<style scoped>\n",
       "    .dataframe tbody tr th:only-of-type {\n",
       "        vertical-align: middle;\n",
       "    }\n",
       "\n",
       "    .dataframe tbody tr th {\n",
       "        vertical-align: top;\n",
       "    }\n",
       "\n",
       "    .dataframe thead th {\n",
       "        text-align: right;\n",
       "    }\n",
       "</style>\n",
       "<table border=\"1\" class=\"dataframe\">\n",
       "  <thead>\n",
       "    <tr style=\"text-align: right;\">\n",
       "      <th></th>\n",
       "      <th>id</th>\n",
       "      <th>date</th>\n",
       "      <th>province</th>\n",
       "      <th>city</th>\n",
       "      <th>visit</th>\n",
       "      <th>latitude</th>\n",
       "      <th>longitude</th>\n",
       "      <th>coordinates</th>\n",
       "    </tr>\n",
       "  </thead>\n",
       "  <tbody>\n",
       "    <tr>\n",
       "      <th>0</th>\n",
       "      <td>1</td>\n",
       "      <td>2020-01-19</td>\n",
       "      <td>Incheon</td>\n",
       "      <td>Jung-gu</td>\n",
       "      <td>airport</td>\n",
       "      <td>37.460459</td>\n",
       "      <td>126.440680</td>\n",
       "      <td>[126.44068, 37.460459]</td>\n",
       "    </tr>\n",
       "    <tr>\n",
       "      <th>1</th>\n",
       "      <td>1</td>\n",
       "      <td>2020-01-20</td>\n",
       "      <td>Incheon</td>\n",
       "      <td>Seo-gu</td>\n",
       "      <td>hospital_isolated</td>\n",
       "      <td>37.478832</td>\n",
       "      <td>126.668558</td>\n",
       "      <td>[126.668558, 37.478832]</td>\n",
       "    </tr>\n",
       "    <tr>\n",
       "      <th>2</th>\n",
       "      <td>2</td>\n",
       "      <td>2020-01-22</td>\n",
       "      <td>Gyeonggi-do</td>\n",
       "      <td>Gimpo-si</td>\n",
       "      <td>airport</td>\n",
       "      <td>37.562143</td>\n",
       "      <td>126.801884</td>\n",
       "      <td>[126.801884, 37.562143]</td>\n",
       "    </tr>\n",
       "    <tr>\n",
       "      <th>3</th>\n",
       "      <td>2</td>\n",
       "      <td>2020-01-23</td>\n",
       "      <td>Seoul</td>\n",
       "      <td>Jung-gu</td>\n",
       "      <td>hospital_isolated</td>\n",
       "      <td>37.567454</td>\n",
       "      <td>127.005627</td>\n",
       "      <td>[127.005627, 37.567454]</td>\n",
       "    </tr>\n",
       "    <tr>\n",
       "      <th>4</th>\n",
       "      <td>3</td>\n",
       "      <td>2020-01-20</td>\n",
       "      <td>Incheon</td>\n",
       "      <td>Jung-gu</td>\n",
       "      <td>airport</td>\n",
       "      <td>37.460459</td>\n",
       "      <td>126.440680</td>\n",
       "      <td>[126.44068, 37.460459]</td>\n",
       "    </tr>\n",
       "    <tr>\n",
       "      <th>...</th>\n",
       "      <td>...</td>\n",
       "      <td>...</td>\n",
       "      <td>...</td>\n",
       "      <td>...</td>\n",
       "      <td>...</td>\n",
       "      <td>...</td>\n",
       "      <td>...</td>\n",
       "      <td>...</td>\n",
       "    </tr>\n",
       "    <tr>\n",
       "      <th>63</th>\n",
       "      <td>14</td>\n",
       "      <td>2020-01-30</td>\n",
       "      <td>Gyeonggi-do</td>\n",
       "      <td>Bucheon-si</td>\n",
       "      <td>market</td>\n",
       "      <td>37.484044</td>\n",
       "      <td>126.782436</td>\n",
       "      <td>[126.782436, 37.484044]</td>\n",
       "    </tr>\n",
       "    <tr>\n",
       "      <th>64</th>\n",
       "      <td>14</td>\n",
       "      <td>2020-02-02</td>\n",
       "      <td>Gyeonggi-do</td>\n",
       "      <td>Seongnam-si</td>\n",
       "      <td>hospital_isolated</td>\n",
       "      <td>37.347722</td>\n",
       "      <td>127.124322</td>\n",
       "      <td>[127.124322, 37.347722]</td>\n",
       "    </tr>\n",
       "    <tr>\n",
       "      <th>65</th>\n",
       "      <td>15</td>\n",
       "      <td>2020-01-20</td>\n",
       "      <td>Incheon</td>\n",
       "      <td>Jung-gu</td>\n",
       "      <td>airport</td>\n",
       "      <td>37.460459</td>\n",
       "      <td>126.440680</td>\n",
       "      <td>[126.44068, 37.460459]</td>\n",
       "    </tr>\n",
       "    <tr>\n",
       "      <th>66</th>\n",
       "      <td>15</td>\n",
       "      <td>2020-02-01</td>\n",
       "      <td>Gyeonggi-do</td>\n",
       "      <td>Suwon-si</td>\n",
       "      <td>hospital</td>\n",
       "      <td>37.304558</td>\n",
       "      <td>127.010198</td>\n",
       "      <td>[127.010198, 37.304558]</td>\n",
       "    </tr>\n",
       "    <tr>\n",
       "      <th>67</th>\n",
       "      <td>15</td>\n",
       "      <td>2020-02-02</td>\n",
       "      <td>Gyeonggi-do</td>\n",
       "      <td>Seongnam-si</td>\n",
       "      <td>hospital_isolated</td>\n",
       "      <td>37.390524</td>\n",
       "      <td>127.149769</td>\n",
       "      <td>[127.149769, 37.390524]</td>\n",
       "    </tr>\n",
       "  </tbody>\n",
       "</table>\n",
       "<p>68 rows × 8 columns</p>\n",
       "</div>"
      ],
      "text/plain": [
       "    id        date     province         city              visit   latitude  \\\n",
       "0    1  2020-01-19      Incheon      Jung-gu            airport  37.460459   \n",
       "1    1  2020-01-20      Incheon       Seo-gu  hospital_isolated  37.478832   \n",
       "2    2  2020-01-22  Gyeonggi-do     Gimpo-si            airport  37.562143   \n",
       "3    2  2020-01-23        Seoul      Jung-gu  hospital_isolated  37.567454   \n",
       "4    3  2020-01-20      Incheon      Jung-gu            airport  37.460459   \n",
       "..  ..         ...          ...          ...                ...        ...   \n",
       "63  14  2020-01-30  Gyeonggi-do   Bucheon-si             market  37.484044   \n",
       "64  14  2020-02-02  Gyeonggi-do  Seongnam-si  hospital_isolated  37.347722   \n",
       "65  15  2020-01-20      Incheon      Jung-gu            airport  37.460459   \n",
       "66  15  2020-02-01  Gyeonggi-do     Suwon-si           hospital  37.304558   \n",
       "67  15  2020-02-02  Gyeonggi-do  Seongnam-si  hospital_isolated  37.390524   \n",
       "\n",
       "     longitude              coordinates  \n",
       "0   126.440680   [126.44068, 37.460459]  \n",
       "1   126.668558  [126.668558, 37.478832]  \n",
       "2   126.801884  [126.801884, 37.562143]  \n",
       "3   127.005627  [127.005627, 37.567454]  \n",
       "4   126.440680   [126.44068, 37.460459]  \n",
       "..         ...                      ...  \n",
       "63  126.782436  [126.782436, 37.484044]  \n",
       "64  127.124322  [127.124322, 37.347722]  \n",
       "65  126.440680   [126.44068, 37.460459]  \n",
       "66  127.010198  [127.010198, 37.304558]  \n",
       "67  127.149769  [127.149769, 37.390524]  \n",
       "\n",
       "[68 rows x 8 columns]"
      ]
     },
     "execution_count": 11,
     "metadata": {},
     "output_type": "execute_result"
    }
   ],
   "source": [
    "korea"
   ]
  },
  {
   "cell_type": "markdown",
   "metadata": {},
   "source": [
    "Merubah list menjadi point"
   ]
  },
  {
   "cell_type": "code",
   "execution_count": 12,
   "metadata": {},
   "outputs": [],
   "source": [
    "korea['coordinates'] = korea['coordinates'].apply(Point)"
   ]
  },
  {
   "cell_type": "markdown",
   "metadata": {},
   "source": [
    "Membuat variabel baru"
   ]
  },
  {
   "cell_type": "code",
   "execution_count": 13,
   "metadata": {},
   "outputs": [],
   "source": [
    "geo_korea = gpd.GeoDataFrame(korea, geometry='coordinates')"
   ]
  },
  {
   "cell_type": "code",
   "execution_count": 14,
   "metadata": {},
   "outputs": [
    {
     "data": {
      "text/html": [
       "<div>\n",
       "<style scoped>\n",
       "    .dataframe tbody tr th:only-of-type {\n",
       "        vertical-align: middle;\n",
       "    }\n",
       "\n",
       "    .dataframe tbody tr th {\n",
       "        vertical-align: top;\n",
       "    }\n",
       "\n",
       "    .dataframe thead th {\n",
       "        text-align: right;\n",
       "    }\n",
       "</style>\n",
       "<table border=\"1\" class=\"dataframe\">\n",
       "  <thead>\n",
       "    <tr style=\"text-align: right;\">\n",
       "      <th></th>\n",
       "      <th>id</th>\n",
       "      <th>date</th>\n",
       "      <th>province</th>\n",
       "      <th>city</th>\n",
       "      <th>visit</th>\n",
       "      <th>latitude</th>\n",
       "      <th>longitude</th>\n",
       "      <th>coordinates</th>\n",
       "    </tr>\n",
       "  </thead>\n",
       "  <tbody>\n",
       "    <tr>\n",
       "      <th>0</th>\n",
       "      <td>1</td>\n",
       "      <td>2020-01-19</td>\n",
       "      <td>Incheon</td>\n",
       "      <td>Jung-gu</td>\n",
       "      <td>airport</td>\n",
       "      <td>37.460459</td>\n",
       "      <td>126.440680</td>\n",
       "      <td>POINT (126.44068 37.46046)</td>\n",
       "    </tr>\n",
       "    <tr>\n",
       "      <th>1</th>\n",
       "      <td>1</td>\n",
       "      <td>2020-01-20</td>\n",
       "      <td>Incheon</td>\n",
       "      <td>Seo-gu</td>\n",
       "      <td>hospital_isolated</td>\n",
       "      <td>37.478832</td>\n",
       "      <td>126.668558</td>\n",
       "      <td>POINT (126.66856 37.47883)</td>\n",
       "    </tr>\n",
       "    <tr>\n",
       "      <th>2</th>\n",
       "      <td>2</td>\n",
       "      <td>2020-01-22</td>\n",
       "      <td>Gyeonggi-do</td>\n",
       "      <td>Gimpo-si</td>\n",
       "      <td>airport</td>\n",
       "      <td>37.562143</td>\n",
       "      <td>126.801884</td>\n",
       "      <td>POINT (126.80188 37.56214)</td>\n",
       "    </tr>\n",
       "    <tr>\n",
       "      <th>3</th>\n",
       "      <td>2</td>\n",
       "      <td>2020-01-23</td>\n",
       "      <td>Seoul</td>\n",
       "      <td>Jung-gu</td>\n",
       "      <td>hospital_isolated</td>\n",
       "      <td>37.567454</td>\n",
       "      <td>127.005627</td>\n",
       "      <td>POINT (127.00563 37.56745)</td>\n",
       "    </tr>\n",
       "    <tr>\n",
       "      <th>4</th>\n",
       "      <td>3</td>\n",
       "      <td>2020-01-20</td>\n",
       "      <td>Incheon</td>\n",
       "      <td>Jung-gu</td>\n",
       "      <td>airport</td>\n",
       "      <td>37.460459</td>\n",
       "      <td>126.440680</td>\n",
       "      <td>POINT (126.44068 37.46046)</td>\n",
       "    </tr>\n",
       "    <tr>\n",
       "      <th>...</th>\n",
       "      <td>...</td>\n",
       "      <td>...</td>\n",
       "      <td>...</td>\n",
       "      <td>...</td>\n",
       "      <td>...</td>\n",
       "      <td>...</td>\n",
       "      <td>...</td>\n",
       "      <td>...</td>\n",
       "    </tr>\n",
       "    <tr>\n",
       "      <th>63</th>\n",
       "      <td>14</td>\n",
       "      <td>2020-01-30</td>\n",
       "      <td>Gyeonggi-do</td>\n",
       "      <td>Bucheon-si</td>\n",
       "      <td>market</td>\n",
       "      <td>37.484044</td>\n",
       "      <td>126.782436</td>\n",
       "      <td>POINT (126.78244 37.48404)</td>\n",
       "    </tr>\n",
       "    <tr>\n",
       "      <th>64</th>\n",
       "      <td>14</td>\n",
       "      <td>2020-02-02</td>\n",
       "      <td>Gyeonggi-do</td>\n",
       "      <td>Seongnam-si</td>\n",
       "      <td>hospital_isolated</td>\n",
       "      <td>37.347722</td>\n",
       "      <td>127.124322</td>\n",
       "      <td>POINT (127.12432 37.34772)</td>\n",
       "    </tr>\n",
       "    <tr>\n",
       "      <th>65</th>\n",
       "      <td>15</td>\n",
       "      <td>2020-01-20</td>\n",
       "      <td>Incheon</td>\n",
       "      <td>Jung-gu</td>\n",
       "      <td>airport</td>\n",
       "      <td>37.460459</td>\n",
       "      <td>126.440680</td>\n",
       "      <td>POINT (126.44068 37.46046)</td>\n",
       "    </tr>\n",
       "    <tr>\n",
       "      <th>66</th>\n",
       "      <td>15</td>\n",
       "      <td>2020-02-01</td>\n",
       "      <td>Gyeonggi-do</td>\n",
       "      <td>Suwon-si</td>\n",
       "      <td>hospital</td>\n",
       "      <td>37.304558</td>\n",
       "      <td>127.010198</td>\n",
       "      <td>POINT (127.01020 37.30456)</td>\n",
       "    </tr>\n",
       "    <tr>\n",
       "      <th>67</th>\n",
       "      <td>15</td>\n",
       "      <td>2020-02-02</td>\n",
       "      <td>Gyeonggi-do</td>\n",
       "      <td>Seongnam-si</td>\n",
       "      <td>hospital_isolated</td>\n",
       "      <td>37.390524</td>\n",
       "      <td>127.149769</td>\n",
       "      <td>POINT (127.14977 37.39052)</td>\n",
       "    </tr>\n",
       "  </tbody>\n",
       "</table>\n",
       "<p>68 rows × 8 columns</p>\n",
       "</div>"
      ],
      "text/plain": [
       "    id        date     province         city              visit   latitude  \\\n",
       "0    1  2020-01-19      Incheon      Jung-gu            airport  37.460459   \n",
       "1    1  2020-01-20      Incheon       Seo-gu  hospital_isolated  37.478832   \n",
       "2    2  2020-01-22  Gyeonggi-do     Gimpo-si            airport  37.562143   \n",
       "3    2  2020-01-23        Seoul      Jung-gu  hospital_isolated  37.567454   \n",
       "4    3  2020-01-20      Incheon      Jung-gu            airport  37.460459   \n",
       "..  ..         ...          ...          ...                ...        ...   \n",
       "63  14  2020-01-30  Gyeonggi-do   Bucheon-si             market  37.484044   \n",
       "64  14  2020-02-02  Gyeonggi-do  Seongnam-si  hospital_isolated  37.347722   \n",
       "65  15  2020-01-20      Incheon      Jung-gu            airport  37.460459   \n",
       "66  15  2020-02-01  Gyeonggi-do     Suwon-si           hospital  37.304558   \n",
       "67  15  2020-02-02  Gyeonggi-do  Seongnam-si  hospital_isolated  37.390524   \n",
       "\n",
       "     longitude                 coordinates  \n",
       "0   126.440680  POINT (126.44068 37.46046)  \n",
       "1   126.668558  POINT (126.66856 37.47883)  \n",
       "2   126.801884  POINT (126.80188 37.56214)  \n",
       "3   127.005627  POINT (127.00563 37.56745)  \n",
       "4   126.440680  POINT (126.44068 37.46046)  \n",
       "..         ...                         ...  \n",
       "63  126.782436  POINT (126.78244 37.48404)  \n",
       "64  127.124322  POINT (127.12432 37.34772)  \n",
       "65  126.440680  POINT (126.44068 37.46046)  \n",
       "66  127.010198  POINT (127.01020 37.30456)  \n",
       "67  127.149769  POINT (127.14977 37.39052)  \n",
       "\n",
       "[68 rows x 8 columns]"
      ]
     },
     "execution_count": 14,
     "metadata": {},
     "output_type": "execute_result"
    }
   ],
   "source": [
    "geo_korea"
   ]
  },
  {
   "cell_type": "markdown",
   "metadata": {
    "tags": []
   },
   "source": [
    "## Visualization"
   ]
  },
  {
   "cell_type": "code",
   "execution_count": 15,
   "metadata": {},
   "outputs": [
    {
     "data": {
      "text/plain": [
       "<AxesSubplot:>"
      ]
     },
     "execution_count": 15,
     "metadata": {},
     "output_type": "execute_result"
    },
    {
     "data": {
      "image/png": "[encoded data removed]",
      "text/plain": [
       "<Figure size 720x1080 with 1 Axes>"
      ]
     },
     "metadata": {
      "needs_background": "light"
     },
     "output_type": "display_data"
    }
   ],
   "source": [
    "geo_korea.plot(figsize=(10,15))"
   ]
  },
  {
   "cell_type": "code",
   "execution_count": 16,
   "metadata": {},
   "outputs": [
    {
     "data": {
      "image/png": "[encoded data removed]",
      "text/plain": [
       "<Figure size 1440x576 with 1 Axes>"
      ]
     },
     "metadata": {
      "needs_background": "light"
     },
     "output_type": "display_data"
    }
   ],
   "source": [
    "fig, ax = plt.subplots(1, figsize=(20,8))\n",
    "base = mapkorea.plot(ax=ax, color='#3B3C6E')"
   ]
  },
  {
   "cell_type": "code",
   "execution_count": 17,
   "metadata": {},
   "outputs": [
    {
     "data": {
      "text/plain": [
       "Text(0.5, 1.0, 'Covid in Korea based on Province')"
      ]
     },
     "execution_count": 17,
     "metadata": {},
     "output_type": "execute_result"
    },
    {
     "data": {
      "text/plain": [
       "<Figure size 432x288 with 0 Axes>"
      ]
     },
     "metadata": {},
     "output_type": "display_data"
    },
    {
     "data": {
      "image/png": "[encoded data removed]",
      "text/plain": [
       "<Figure size 720x1080 with 1 Axes>"
      ]
     },
     "metadata": {
      "needs_background": "light"
     },
     "output_type": "display_data"
    }
   ],
   "source": [
    "geo_korea.plot(ax=base, color='darkred', marker=\"*\", markersize=30);\n",
    "\n",
    "fig, ax = plt.subplots(1, figsize=(10,15))\n",
    "base = mapkorea.plot(ax=ax, color='#3B3C6E')\n",
    "geo_korea.plot(ax=base, column='province', marker=\"<\", markersize=30, cmap='cool', label=\"Province\")\n",
    "_ = ax.axis('off')\n",
    "plt.legend()\n",
    "ax.set_title(\"Covid in Korea based on Province\", fontsize=25)"
   ]
  }
 ],
 "metadata": {
  "interpreter": {
   "hash": "677f313c0eaeab36a4b6472d94cb7cdc7b13cfc0d73b7fca8884a931de0357ec"
  },
  "kernelspec": {
   "display_name": "Python 3 (ipykernel)",
   "language": "python",
   "name": "python3"
  },
  "language_info": {
   "codemirror_mode": {
    "name": "ipython",
    "version": 3
   },
   "file_extension": ".py",
   "mimetype": "text/x-python",
   "name": "python",
   "nbconvert_exporter": "python",
   "pygments_lexer": "ipython3",
   "version": "3.9.12"
  }
 },
 "nbformat": 4,
 "nbformat_minor": 4
}
